{
 "cells": [
  {
   "cell_type": "markdown",
   "metadata": {},
   "source": [
    "# Linear, polynomial and regressions in general"
   ]
  },
  {
   "cell_type": "markdown",
   "metadata": {},
   "source": [
    "Regression machine learning problems, are those where the output values could be represented as continuous real numbers (instead of elements of a limited set). Those includes classic problems such as price prediction in respect of features, and son on. When we're modeling a problem with regression, we are trying to fins a hypothesis that best approximates our desired output value as function of the input values or features.\n",
    "\n",
    "Linear regression hypothesis can be represented as:\n",
    "\n",
    "\\begin{equation}\n",
    "\\mathbf{h} = w_0 + w_1\\mathbf{x_1} + w_2\\mathbf{x_2} + \\dots \n",
    "\\end{equation}"
   ]
  },
  {
   "cell_type": "markdown",
   "metadata": {},
   "source": [
    "While polynomial regression could be written for instance as:\n",
    "\n",
    "\\begin{equation}\n",
    "\\mathbf{h} = w_0 + w_1\\mathbf{x_1} + w_2\\mathbf{x_1^2} + w_3\\mathbf{x_2} + w_4\\mathbf{x_2^2} + \\dots \n",
    "\\end{equation}"
   ]
  },
  {
   "cell_type": "markdown",
   "metadata": {},
   "source": [
    "And both, among several regression hypothesis, could be written in a more general form: As linear combinations of basis functions of the input features: \n",
    "\n",
    "\\begin{equation}\n",
    "\\mathbf{h} = w_0\\mathbf{\\varphi_0}(x) + w_1\\mathbf{\\varphi_1}(x)+\\dots+w_n\\mathbf{\\varphi_n}(x)=\\sum_{i=1}^n w_i\\mathbf{\\varphi_i}(x)\n",
    "\\end{equation}\n",
    "\n",
    "Where $\\mathbf{\\varphi_0}(x)$ stands for the bias function: $\\mathbf{\\varphi_0}(x)=1$"
   ]
  },
  {
   "cell_type": "markdown",
   "metadata": {},
   "source": [
    "Which in matricial form, is written as:\n",
    "\\begin{equation}\n",
    "\\mathbf{h} = X \\mathbf{w}\n",
    "\\end{equation}\n",
    "\n",
    "The last expression is so interesting, because it can be interpreted as the hypothesis vector $\\mathbf{h}$ being written in a different basis $X$, formed by the basis functions.\n",
    "\n",
    "\\begin{equation}\n",
    "   X =\n",
    "  \\left[ {\\begin{array}{cc}\n",
    "   \\mathbf{\\varphi_0}(x) & \\mathbf{\\varphi_1}(x) & \\dots & \\mathbf{\\varphi_n}(x)\n",
    "  \\end{array} } \\right]\n",
    "\\end{equation}"
   ]
  },
  {
   "cell_type": "markdown",
   "metadata": {},
   "source": [
    "That being said, and with a defined basis (linear, polynomial or any other family of functions), our job now is to find the best hyphotesis $\\mathbf{h}$ that best fits te expected output data $\\mathbf{y}$"
   ]
  },
  {
   "cell_type": "markdown",
   "metadata": {},
   "source": [
    "## Regression as a least squares problem"
   ]
  },
  {
   "cell_type": "markdown",
   "metadata": {},
   "source": [
    "## Regression as an optimization problem"
   ]
  },
  {
   "cell_type": "code",
   "execution_count": null,
   "metadata": {
    "collapsed": true
   },
   "outputs": [],
   "source": []
  }
 ],
 "metadata": {
  "kernelspec": {
   "display_name": "Python [Root]",
   "language": "python",
   "name": "Python [Root]"
  },
  "language_info": {
   "codemirror_mode": {
    "name": "ipython",
    "version": 3
   },
   "file_extension": ".py",
   "mimetype": "text/x-python",
   "name": "python",
   "nbconvert_exporter": "python",
   "pygments_lexer": "ipython3",
   "version": "3.5.2"
  }
 },
 "nbformat": 4,
 "nbformat_minor": 0
}
